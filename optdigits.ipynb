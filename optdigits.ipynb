{
  "nbformat": 4,
  "nbformat_minor": 0,
  "metadata": {
    "colab": {
      "name": "esercizio.ipynb",
      "provenance": [],
      "collapsed_sections": [],
      "mount_file_id": "1kSbuBdzUoJFl4U9uR4abGhwB1vF5ZOMs",
      "authorship_tag": "ABX9TyNvzYf829XZTzz551OjH+QJ",
      "include_colab_link": true
    },
    "kernelspec": {
      "name": "python3",
      "display_name": "Python 3"
    },
    "language_info": {
      "name": "python"
    },
    "accelerator": "GPU"
  },
  "cells": [
    {
      "cell_type": "markdown",
      "metadata": {
        "id": "view-in-github",
        "colab_type": "text"
      },
      "source": [
        "<a href=\"https://colab.research.google.com/github/jouleffect/ML-Training/blob/main/optdigits.ipynb\" target=\"_parent\"><img src=\"https://colab.research.google.com/assets/colab-badge.svg\" alt=\"Open In Colab\"/></a>"
      ]
    },
    {
      "cell_type": "markdown",
      "source": [
        "# Esercitazione 24/05/2022"
      ],
      "metadata": {
        "id": "DSU_n85p_LUd"
      }
    },
    {
      "cell_type": "code",
      "execution_count": 1,
      "metadata": {
        "id": "bt5lwvT-9j9T"
      },
      "outputs": [],
      "source": [
        "import pandas as pd\n",
        "import numpy as np"
      ]
    },
    {
      "cell_type": "markdown",
      "source": [
        "### Import datasets"
      ],
      "metadata": {
        "id": "SlTHtoa8FENR"
      }
    },
    {
      "cell_type": "code",
      "source": [
        "data_train = pd.read_csv('/content/drive/MyDrive/AI/Esercizi/Python/dataset/optdigits.tra')\n",
        "data_train.shape"
      ],
      "metadata": {
        "colab": {
          "base_uri": "https://localhost:8080/"
        },
        "id": "ka6vA8F3_ud_",
        "outputId": "77b2bb62-a931-41cd-c944-aae9d3f5b403"
      },
      "execution_count": 2,
      "outputs": [
        {
          "output_type": "execute_result",
          "data": {
            "text/plain": [
              "(3822, 65)"
            ]
          },
          "metadata": {},
          "execution_count": 2
        }
      ]
    },
    {
      "cell_type": "code",
      "source": [
        "data_test = pd.read_csv('/content/drive/MyDrive/AI/Esercizi/Python/dataset/optdigits.tes')\n",
        "data_test.shape"
      ],
      "metadata": {
        "colab": {
          "base_uri": "https://localhost:8080/"
        },
        "id": "TzKOm0ngFkW9",
        "outputId": "66750692-261f-4914-93d1-fa80693ba8e2"
      },
      "execution_count": 3,
      "outputs": [
        {
          "output_type": "execute_result",
          "data": {
            "text/plain": [
              "(1796, 65)"
            ]
          },
          "metadata": {},
          "execution_count": 3
        }
      ]
    },
    {
      "cell_type": "markdown",
      "source": [
        "### Normalizzazione dei dati"
      ],
      "metadata": {
        "id": "26lujI7CXyzN"
      }
    },
    {
      "cell_type": "code",
      "source": [
        "from sklearn.preprocessing import MinMaxScaler"
      ],
      "metadata": {
        "id": "YbDc48GTVpxI"
      },
      "execution_count": 4,
      "outputs": []
    },
    {
      "cell_type": "code",
      "source": [
        "scaler = MinMaxScaler()\n",
        "\n",
        "array_train = scaler.fit_transform(data_train)\n",
        "print(array_train)\n",
        "\n",
        "array_test = scaler.fit_transform(data_test)\n",
        "print(array_test)"
      ],
      "metadata": {
        "colab": {
          "base_uri": "https://localhost:8080/"
        },
        "id": "r9JbbzQcVfNq",
        "outputId": "f887b477-15fa-4a12-ddf4-f5cbfddb6ed9"
      },
      "execution_count": 5,
      "outputs": [
        {
          "output_type": "stream",
          "name": "stdout",
          "text": [
            "[[0.         0.         0.625      ... 0.         0.         0.        ]\n",
            " [0.         0.         0.5        ... 0.         0.         0.77777778]\n",
            " [0.         0.         0.         ... 0.         0.         0.44444444]\n",
            " ...\n",
            " [0.         0.         0.1875     ... 0.         0.         0.66666667]\n",
            " [0.         0.         0.375      ... 0.3125     0.         0.66666667]\n",
            " [0.         0.         0.125      ... 0.         0.         0.77777778]]\n",
            "[[0.         0.         0.         ... 0.         0.         0.11111111]\n",
            " [0.         0.         0.         ... 0.5625     0.         0.22222222]\n",
            " [0.         0.         0.4375     ... 0.         0.         0.33333333]\n",
            " ...\n",
            " [0.         0.         0.0625     ... 0.         0.         0.88888889]\n",
            " [0.         0.         0.125      ... 0.         0.         1.        ]\n",
            " [0.         0.         0.625      ... 0.0625     0.         0.88888889]]\n"
          ]
        }
      ]
    },
    {
      "cell_type": "markdown",
      "source": [
        "### Split dei dati estraendo la label"
      ],
      "metadata": {
        "id": "IhCB21rqX6SR"
      }
    },
    {
      "cell_type": "code",
      "source": [
        "array_train = data_train.to_numpy()\n",
        "x_train = array_train[:,0:64]\n",
        "y_train = array_train[:,64]\n",
        "\n",
        "array_test = data_test.to_numpy()\n",
        "x_test = array_test[:,0:64]\n",
        "y_test = array_test[:,64]\n",
        "\n",
        "print(y_test)"
      ],
      "metadata": {
        "id": "QpBrR4dsATZn",
        "colab": {
          "base_uri": "https://localhost:8080/"
        },
        "outputId": "eb9c6f0a-d83f-4aea-b2b6-63cd154746c4"
      },
      "execution_count": 6,
      "outputs": [
        {
          "output_type": "stream",
          "name": "stdout",
          "text": [
            "[1 2 3 ... 8 9 8]\n"
          ]
        }
      ]
    },
    {
      "cell_type": "markdown",
      "source": [
        "### Visualizzazione dei dati"
      ],
      "metadata": {
        "id": "AFErDqzOEhak"
      }
    },
    {
      "cell_type": "code",
      "source": [
        "import matplotlib.pyplot as plt"
      ],
      "metadata": {
        "id": "rybxyTz9TrTM"
      },
      "execution_count": 7,
      "outputs": []
    },
    {
      "cell_type": "code",
      "source": [
        "plt.figure(figsize=(15,4.5))\n",
        "for i in range(30):  \n",
        "    plt.subplot(3, 10, i+1)\n",
        "    plt.imshow(x_train[i].reshape((8,8)),cmap=plt.cm.binary)\n",
        "    plt.axis('off')\n",
        "plt.subplots_adjust(wspace=-0.1, hspace=-0.1)\n",
        "plt.show()"
      ],
      "metadata": {
        "colab": {
          "base_uri": "https://localhost:8080/",
          "height": 276
        },
        "id": "lwkeOl8f4-Np",
        "outputId": "fbcd407b-5969-410b-8cd6-d99870897ba2"
      },
      "execution_count": 8,
      "outputs": [
        {
          "output_type": "display_data",
          "data": {
            "text/plain": [
              "<Figure size 1080x324 with 30 Axes>"
            ],
            "image/png": "[encoded data removed]"
          },
          "metadata": {
            "needs_background": "light"
          }
        }
      ]
    },
    {
      "cell_type": "markdown",
      "source": [
        "## Model K-neighbors\n",
        "\n",
        "\n",
        "---\n",
        "\n",
        "\n",
        "Con 1 neighbor : accuratezza del 98%"
      ],
      "metadata": {
        "id": "gRmrntT7FORi"
      }
    },
    {
      "cell_type": "code",
      "source": [
        "from sklearn.neighbors import KNeighborsClassifier\n",
        "from sklearn.metrics import accuracy_score\n",
        "\n",
        "model = KNeighborsClassifier(n_neighbors=1)\n",
        "\n",
        "model.fit(x_train,y_train)\n",
        "y_pred = model.predict(x_test)\n",
        "\n",
        "score = model.score(x_test,y_test)\n",
        "accuracy = accuracy_score(y_test,y_pred)\n",
        "\n",
        "print(f\"score: {score}\")\n",
        "print(f\"accuracy: {accuracy}\")"
      ],
      "metadata": {
        "colab": {
          "base_uri": "https://localhost:8080/"
        },
        "id": "nnjxTXgeD7iL",
        "outputId": "93b5e9b0-2c59-4a3c-8116-35ba1c881e6a"
      },
      "execution_count": 9,
      "outputs": [
        {
          "output_type": "stream",
          "name": "stdout",
          "text": [
            "score: 0.9799554565701559\n",
            "accuracy: 0.9799554565701559\n"
          ]
        }
      ]
    },
    {
      "cell_type": "markdown",
      "source": [
        "\n",
        "\n",
        "---\n",
        "\n",
        "\n",
        "\n",
        "---\n",
        "\n"
      ],
      "metadata": {
        "id": "_XjzsITNqJs3"
      }
    },
    {
      "cell_type": "markdown",
      "source": [
        "### One Hot Encoder"
      ],
      "metadata": {
        "id": "Kl-3Zxr-RnLd"
      }
    },
    {
      "cell_type": "code",
      "source": [
        "from sklearn.preprocessing import OneHotEncoder\n",
        "from sklearn import metrics"
      ],
      "metadata": {
        "id": "gETlNKWnIWdT"
      },
      "execution_count": 10,
      "outputs": []
    },
    {
      "cell_type": "code",
      "source": [
        "enc = OneHotEncoder()\n",
        "y_train = enc.fit_transform(y_train[:, np.newaxis]).toarray()\n",
        "y_test = enc.fit_transform(y_test[:, np.newaxis]).toarray()"
      ],
      "metadata": {
        "id": "-ifjmaAnNMAa"
      },
      "execution_count": 11,
      "outputs": []
    },
    {
      "cell_type": "markdown",
      "source": [
        "## Model FeedForward\n",
        "\n",
        "\n",
        "\n",
        "---\n",
        "\n"
      ],
      "metadata": {
        "id": "Zt8_Z-dJRwVL"
      }
    },
    {
      "cell_type": "code",
      "source": [
        "import tensorflow as tf\n",
        "from tensorflow.keras.layers import Dense as dense\n",
        "from tensorflow.keras.losses import CategoricalCrossentropy as cc\n",
        "from tensorflow.keras.optimizers import SGD"
      ],
      "metadata": {
        "id": "IA3hYyKKOcd-"
      },
      "execution_count": 12,
      "outputs": []
    },
    {
      "cell_type": "markdown",
      "source": [
        "Definizione del modello (3 Dense layers)"
      ],
      "metadata": {
        "id": "2FRZDZVyR7kz"
      }
    },
    {
      "cell_type": "code",
      "source": [
        "net = tf.keras.Sequential()\n",
        "net.add(dense(128,activation=tf.nn.relu, input_shape=(64,)))\n",
        "net.add(dense(64,activation=tf.nn.relu))\n",
        "net.add(dense(10, activation=tf.nn.softmax))"
      ],
      "metadata": {
        "id": "wbJmn2T1O9tX"
      },
      "execution_count": 13,
      "outputs": []
    },
    {
      "cell_type": "markdown",
      "source": [
        "Definizione del loss e dell'optimizer"
      ],
      "metadata": {
        "id": "FAFOKxM1SBn-"
      }
    },
    {
      "cell_type": "code",
      "source": [
        "loss = cc(from_logits=True)\n",
        "optimizer = SGD(learning_rate=0.05)"
      ],
      "metadata": {
        "id": "XlEnyiwJQ73l"
      },
      "execution_count": 14,
      "outputs": []
    },
    {
      "cell_type": "markdown",
      "source": [
        "Training del modello"
      ],
      "metadata": {
        "id": "rzLd8CytSWef"
      }
    },
    {
      "cell_type": "code",
      "source": [
        "net.compile(optimizer=optimizer, loss=loss, metrics=['accuracy'])\n",
        "hist = net.fit(x_train, y_train, batch_size=32, epochs=37)\n",
        "net.evaluate(x_test,y_test)"
      ],
      "metadata": {
        "colab": {
          "base_uri": "https://localhost:8080/"
        },
        "id": "OLqJwKx4ScV4",
        "outputId": "2af8e276-bdc8-4b7f-a0ed-bd7f4cf6dbd5"
      },
      "execution_count": 15,
      "outputs": [
        {
          "output_type": "stream",
          "name": "stdout",
          "text": [
            "Epoch 1/37\n",
            "120/120 [==============================] - 2s 5ms/step - loss: 1.9819 - accuracy: 0.4809\n",
            "Epoch 2/37\n",
            "120/120 [==============================] - 1s 5ms/step - loss: 1.8903 - accuracy: 0.5662\n",
            "Epoch 3/37\n",
            "120/120 [==============================] - 1s 4ms/step - loss: 1.8751 - accuracy: 0.5806\n",
            "Epoch 4/37\n",
            "120/120 [==============================] - 1s 4ms/step - loss: 1.7525 - accuracy: 0.7106\n",
            "Epoch 5/37\n",
            "120/120 [==============================] - 1s 4ms/step - loss: 1.6862 - accuracy: 0.7786\n",
            "Epoch 6/37\n",
            "120/120 [==============================] - 1s 4ms/step - loss: 1.6734 - accuracy: 0.7889\n",
            "Epoch 7/37\n",
            "120/120 [==============================] - 1s 5ms/step - loss: 1.5882 - accuracy: 0.8786\n",
            "Epoch 8/37\n",
            "120/120 [==============================] - 1s 5ms/step - loss: 1.5790 - accuracy: 0.8859\n",
            "Epoch 9/37\n",
            "120/120 [==============================] - 1s 5ms/step - loss: 1.5743 - accuracy: 0.8893\n",
            "Epoch 10/37\n",
            "120/120 [==============================] - 1s 5ms/step - loss: 1.5707 - accuracy: 0.8932\n",
            "Epoch 11/37\n",
            "120/120 [==============================] - 1s 5ms/step - loss: 1.5700 - accuracy: 0.8932\n",
            "Epoch 12/37\n",
            "120/120 [==============================] - 0s 4ms/step - loss: 1.5692 - accuracy: 0.8925\n",
            "Epoch 13/37\n",
            "120/120 [==============================] - 1s 4ms/step - loss: 1.5692 - accuracy: 0.8919\n",
            "Epoch 14/37\n",
            "120/120 [==============================] - 1s 4ms/step - loss: 1.5686 - accuracy: 0.8927\n",
            "Epoch 15/37\n",
            "120/120 [==============================] - 1s 5ms/step - loss: 1.5666 - accuracy: 0.8953\n",
            "Epoch 16/37\n",
            "120/120 [==============================] - 0s 4ms/step - loss: 1.5660 - accuracy: 0.8961\n",
            "Epoch 17/37\n",
            "120/120 [==============================] - 1s 5ms/step - loss: 1.5647 - accuracy: 0.8969\n",
            "Epoch 18/37\n",
            "120/120 [==============================] - 1s 4ms/step - loss: 1.5637 - accuracy: 0.8974\n",
            "Epoch 19/37\n",
            "120/120 [==============================] - 1s 4ms/step - loss: 1.5632 - accuracy: 0.8974\n",
            "Epoch 20/37\n",
            "120/120 [==============================] - 0s 4ms/step - loss: 1.5633 - accuracy: 0.8969\n",
            "Epoch 21/37\n",
            "120/120 [==============================] - 1s 4ms/step - loss: 1.5625 - accuracy: 0.8974\n",
            "Epoch 22/37\n",
            "120/120 [==============================] - 1s 4ms/step - loss: 1.5624 - accuracy: 0.8977\n",
            "Epoch 23/37\n",
            "120/120 [==============================] - 1s 5ms/step - loss: 1.5618 - accuracy: 0.8980\n",
            "Epoch 24/37\n",
            "120/120 [==============================] - 0s 4ms/step - loss: 1.5618 - accuracy: 0.8980\n",
            "Epoch 25/37\n",
            "120/120 [==============================] - 0s 4ms/step - loss: 1.5615 - accuracy: 0.8980\n",
            "Epoch 26/37\n",
            "120/120 [==============================] - 0s 3ms/step - loss: 1.5618 - accuracy: 0.8977\n",
            "Epoch 27/37\n",
            "120/120 [==============================] - 0s 4ms/step - loss: 1.5612 - accuracy: 0.8980\n",
            "Epoch 28/37\n",
            "120/120 [==============================] - 1s 4ms/step - loss: 1.5614 - accuracy: 0.8980\n",
            "Epoch 29/37\n",
            "120/120 [==============================] - 1s 5ms/step - loss: 1.5612 - accuracy: 0.8980\n",
            "Epoch 30/37\n",
            "120/120 [==============================] - 1s 4ms/step - loss: 1.5608 - accuracy: 0.8982\n",
            "Epoch 31/37\n",
            "120/120 [==============================] - 0s 4ms/step - loss: 1.5610 - accuracy: 0.8980\n",
            "Epoch 32/37\n",
            "120/120 [==============================] - 1s 5ms/step - loss: 1.5611 - accuracy: 0.8982\n",
            "Epoch 33/37\n",
            "120/120 [==============================] - 1s 5ms/step - loss: 1.5607 - accuracy: 0.8982\n",
            "Epoch 34/37\n",
            "120/120 [==============================] - 0s 3ms/step - loss: 1.5607 - accuracy: 0.8982\n",
            "Epoch 35/37\n",
            "120/120 [==============================] - 0s 4ms/step - loss: 1.5605 - accuracy: 0.8982\n",
            "Epoch 36/37\n",
            "120/120 [==============================] - 1s 4ms/step - loss: 1.5605 - accuracy: 0.8982\n",
            "Epoch 37/37\n",
            "120/120 [==============================] - 0s 4ms/step - loss: 1.5604 - accuracy: 0.8982\n",
            "57/57 [==============================] - 1s 4ms/step - loss: 1.5933 - accuracy: 0.8647\n"
          ]
        },
        {
          "output_type": "execute_result",
          "data": {
            "text/plain": [
              "[1.593342900276184, 0.8646993041038513]"
            ]
          },
          "metadata": {},
          "execution_count": 15
        }
      ]
    },
    {
      "cell_type": "code",
      "source": [
        "print(\"Loss\")\n",
        "plt.plot(hist.history['loss'])\n",
        "plt.show()\n",
        "print(\"Accuracy\")\n",
        "plt.plot(hist.history['accuracy'])\n",
        "plt.show()"
      ],
      "metadata": {
        "colab": {
          "base_uri": "https://localhost:8080/",
          "height": 551
        },
        "id": "fVVG6c36TDLx",
        "outputId": "3ff7a4e9-fbc4-4098-e003-396b79aa08fb"
      },
      "execution_count": 16,
      "outputs": [
        {
          "output_type": "stream",
          "name": "stdout",
          "text": [
            "Loss\n"
          ]
        },
        {
          "output_type": "display_data",
          "data": {
            "text/plain": [
              "<Figure size 432x288 with 1 Axes>"
            ],
            "image/png": "[encoded data removed]"
          },
          "metadata": {
            "needs_background": "light"
          }
        },
        {
          "output_type": "stream",
          "name": "stdout",
          "text": [
            "Accuracy\n"
          ]
        },
        {
          "output_type": "display_data",
          "data": {
            "text/plain": [
              "<Figure size 432x288 with 1 Axes>"
            ],
            "image/png": "[encoded data removed]"
          },
          "metadata": {
            "needs_background": "light"
          }
        }
      ]
    },
    {
      "cell_type": "markdown",
      "source": [
        "Con un learning rate troppo basso non diminuiva il loss, ho aumentato da 0.0001 a 0.05.\n",
        "Inoltre, arrivando a circa 40 epoche l'accuracy si stabilizza al 90%, ma aumentando le epoche non va oltre il 90% di accuratezza.\n",
        "\n",
        "\n",
        "\n",
        "---\n",
        "\n",
        "\n",
        "\n",
        "---\n",
        "\n"
      ],
      "metadata": {
        "id": "hjjXCIW5pJYm"
      }
    },
    {
      "cell_type": "markdown",
      "source": [
        "## Model Convolution\n",
        "\n",
        "\n",
        "---\n",
        "\n",
        "Modello con:\n",
        "- layer Conv2D con Kernel 3x3\n",
        "- layer MaxPooling 2x2\n",
        "- layer Flatten\n",
        "- layer Dropout"
      ],
      "metadata": {
        "id": "AGDUi71YY92E"
      }
    },
    {
      "cell_type": "markdown",
      "source": [
        "### Reshape\n",
        "Ogni riga è un'immagine di 64 pixel, quindi una matrice di 8x8."
      ],
      "metadata": {
        "id": "5IYP74QJFJpz"
      }
    },
    {
      "cell_type": "code",
      "source": [
        "x_train_resh = x_train.reshape((-1,8,8,1))\n",
        "x_train_resh.shape\n",
        "x_test_resh = x_test.reshape((-1,8,8,1))"
      ],
      "metadata": {
        "id": "-HlyxEZnBP_B"
      },
      "execution_count": 17,
      "outputs": []
    },
    {
      "cell_type": "markdown",
      "source": [
        "### Creazione del modello"
      ],
      "metadata": {
        "id": "s8Stjuo8DkFl"
      }
    },
    {
      "cell_type": "code",
      "source": [
        "from tensorflow import keras\n",
        "from keras import layers\n",
        "\n",
        "conv_net = keras.Sequential(\n",
        "    [\n",
        "        keras.Input(shape=(8,8,1)),\n",
        "        layers.Conv2D(64, kernel_size=(3, 3), activation=\"relu\"),\n",
        "        layers.MaxPooling2D(pool_size=(2, 2)),\n",
        "        layers.Flatten(),\n",
        "        layers.Dropout(0.5),\n",
        "        layers.Dense(10, activation=\"softmax\"),\n",
        "    ]\n",
        ")\n",
        "\n",
        "conv_net.summary()"
      ],
      "metadata": {
        "colab": {
          "base_uri": "https://localhost:8080/"
        },
        "id": "6ZmQQgUOqdd5",
        "outputId": "d54893a3-392b-4064-e76c-b90254ecf115"
      },
      "execution_count": 18,
      "outputs": [
        {
          "output_type": "stream",
          "name": "stdout",
          "text": [
            "Model: \"sequential_1\"\n",
            "_________________________________________________________________\n",
            " Layer (type)                Output Shape              Param #   \n",
            "=================================================================\n",
            " conv2d (Conv2D)             (None, 6, 6, 64)          640       \n",
            "                                                                 \n",
            " max_pooling2d (MaxPooling2D  (None, 3, 3, 64)         0         \n",
            " )                                                               \n",
            "                                                                 \n",
            " flatten (Flatten)           (None, 576)               0         \n",
            "                                                                 \n",
            " dropout (Dropout)           (None, 576)               0         \n",
            "                                                                 \n",
            " dense_3 (Dense)             (None, 10)                5770      \n",
            "                                                                 \n",
            "=================================================================\n",
            "Total params: 6,410\n",
            "Trainable params: 6,410\n",
            "Non-trainable params: 0\n",
            "_________________________________________________________________\n"
          ]
        }
      ]
    },
    {
      "cell_type": "code",
      "source": [
        "earlyStop = keras.callbacks.EarlyStopping(patience=2)"
      ],
      "metadata": {
        "id": "pYzZuwClvv3Y"
      },
      "execution_count": 19,
      "outputs": []
    },
    {
      "cell_type": "markdown",
      "source": [
        "### Training"
      ],
      "metadata": {
        "id": "GvXkhsYlDsco"
      }
    },
    {
      "cell_type": "code",
      "source": [
        "batch_size = 64\n",
        "epochs = 30\n",
        "\n",
        "conv_net.compile(loss=\"categorical_crossentropy\", optimizer=\"adam\", metrics=[\"accuracy\"])\n",
        "\n",
        "conv_net.fit(x_train_resh, y_train, batch_size=batch_size, epochs=epochs, validation_split=0.1, callbacks=[earlyStop])"
      ],
      "metadata": {
        "colab": {
          "base_uri": "https://localhost:8080/"
        },
        "id": "uAFnJ3FewAKn",
        "outputId": "c8599a60-230b-4161-c15b-03aed10d5f49"
      },
      "execution_count": 20,
      "outputs": [
        {
          "output_type": "stream",
          "name": "stdout",
          "text": [
            "Epoch 1/30\n",
            "54/54 [==============================] - 3s 8ms/step - loss: 2.1458 - accuracy: 0.3891 - val_loss: 0.4755 - val_accuracy: 0.9269\n",
            "Epoch 2/30\n",
            "54/54 [==============================] - 0s 4ms/step - loss: 0.5619 - accuracy: 0.8313 - val_loss: 0.2009 - val_accuracy: 0.9661\n",
            "Epoch 3/30\n",
            "54/54 [==============================] - 0s 4ms/step - loss: 0.3254 - accuracy: 0.9069 - val_loss: 0.1427 - val_accuracy: 0.9687\n",
            "Epoch 4/30\n",
            "54/54 [==============================] - 0s 4ms/step - loss: 0.2418 - accuracy: 0.9264 - val_loss: 0.1083 - val_accuracy: 0.9765\n",
            "Epoch 5/30\n",
            "54/54 [==============================] - 0s 4ms/step - loss: 0.1811 - accuracy: 0.9480 - val_loss: 0.0906 - val_accuracy: 0.9817\n",
            "Epoch 6/30\n",
            "54/54 [==============================] - 0s 3ms/step - loss: 0.1608 - accuracy: 0.9494 - val_loss: 0.0732 - val_accuracy: 0.9843\n",
            "Epoch 7/30\n",
            "54/54 [==============================] - 0s 3ms/step - loss: 0.1531 - accuracy: 0.9552 - val_loss: 0.0715 - val_accuracy: 0.9843\n",
            "Epoch 8/30\n",
            "54/54 [==============================] - 0s 4ms/step - loss: 0.1359 - accuracy: 0.9575 - val_loss: 0.0622 - val_accuracy: 0.9869\n",
            "Epoch 9/30\n",
            "54/54 [==============================] - 0s 3ms/step - loss: 0.1215 - accuracy: 0.9654 - val_loss: 0.0577 - val_accuracy: 0.9843\n",
            "Epoch 10/30\n",
            "54/54 [==============================] - 0s 4ms/step - loss: 0.1162 - accuracy: 0.9657 - val_loss: 0.0591 - val_accuracy: 0.9869\n",
            "Epoch 11/30\n",
            "54/54 [==============================] - 0s 4ms/step - loss: 0.1032 - accuracy: 0.9703 - val_loss: 0.0527 - val_accuracy: 0.9896\n",
            "Epoch 12/30\n",
            "54/54 [==============================] - 0s 3ms/step - loss: 0.1025 - accuracy: 0.9669 - val_loss: 0.0526 - val_accuracy: 0.9896\n",
            "Epoch 13/30\n",
            "54/54 [==============================] - 0s 4ms/step - loss: 0.0962 - accuracy: 0.9712 - val_loss: 0.0481 - val_accuracy: 0.9896\n",
            "Epoch 14/30\n",
            "54/54 [==============================] - 0s 4ms/step - loss: 0.0937 - accuracy: 0.9715 - val_loss: 0.0460 - val_accuracy: 0.9896\n",
            "Epoch 15/30\n",
            "54/54 [==============================] - 0s 4ms/step - loss: 0.0893 - accuracy: 0.9727 - val_loss: 0.0434 - val_accuracy: 0.9922\n",
            "Epoch 16/30\n",
            "54/54 [==============================] - 0s 4ms/step - loss: 0.0809 - accuracy: 0.9732 - val_loss: 0.0426 - val_accuracy: 0.9896\n",
            "Epoch 17/30\n",
            "54/54 [==============================] - 0s 4ms/step - loss: 0.0800 - accuracy: 0.9730 - val_loss: 0.0427 - val_accuracy: 0.9922\n",
            "Epoch 18/30\n",
            "54/54 [==============================] - 0s 3ms/step - loss: 0.0685 - accuracy: 0.9794 - val_loss: 0.0431 - val_accuracy: 0.9896\n"
          ]
        },
        {
          "output_type": "execute_result",
          "data": {
            "text/plain": [
              "<keras.callbacks.History at 0x7f62646a2950>"
            ]
          },
          "metadata": {},
          "execution_count": 20
        }
      ]
    },
    {
      "cell_type": "markdown",
      "source": [
        "Ho settato 30 epoche, ma l'early stop ha raggiunto circa 20 epoche con 99% di accuratezza."
      ],
      "metadata": {
        "id": "bjLYlI9Pzdei"
      }
    },
    {
      "cell_type": "markdown",
      "source": [
        "### Predizione dei risultati"
      ],
      "metadata": {
        "id": "vSnfVZ7kDznN"
      }
    },
    {
      "cell_type": "code",
      "source": [
        "y_pred = np.zeros( (y_test.shape[0],10) ) \n",
        "y_pred = conv_net.predict(x_test_resh)\n",
        "y_pred = np.argmax(y_pred,axis = 1)"
      ],
      "metadata": {
        "id": "P3x68v4L-nLv"
      },
      "execution_count": 21,
      "outputs": []
    },
    {
      "cell_type": "markdown",
      "source": [
        "### Visualizzazione dei dati predetti"
      ],
      "metadata": {
        "id": "Z4ieezFsD-9W"
      }
    },
    {
      "cell_type": "code",
      "source": [
        "plt.figure(figsize=(20,15))\n",
        "for i in range(60):\n",
        "    plt.subplot(6, 10, i+1)    \n",
        "    plt.imshow(x_test[i].reshape((8,8)),cmap=plt.cm.binary)\n",
        "    plt.title(\"predict=%d\" % y_pred[i],y=0.9)\n",
        "    plt.axis('off')\n",
        "plt.subplots_adjust(wspace=0.3, hspace=-0.1)\n",
        "plt.show()"
      ],
      "metadata": {
        "colab": {
          "base_uri": "https://localhost:8080/",
          "height": 793
        },
        "id": "B8p98Mnf7Lb1",
        "outputId": "797357f6-01bc-4769-f8c4-1f7f1053b984"
      },
      "execution_count": 22,
      "outputs": [
        {
          "output_type": "display_data",
          "data": {
            "text/plain": [
              "<Figure size 1440x1080 with 60 Axes>"
            ],
            "image/png": "[encoded data removed]"
          },
          "metadata": {
            "needs_background": "light"
          }
        }
      ]
    }
  ]
}