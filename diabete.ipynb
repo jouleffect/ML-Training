{
  "nbformat": 4,
  "nbformat_minor": 0,
  "metadata": {
    "colab": {
      "name": "diabete.ipynb",
      "provenance": [],
      "collapsed_sections": [],
      "mount_file_id": "171loqrhKwRs03XVX5UdEHlGckhKIA6Du",
      "authorship_tag": "ABX9TyNuswc5EGcCwYY37HfuJx7A",
      "include_colab_link": true
    },
    "kernelspec": {
      "name": "python3",
      "display_name": "Python 3"
    },
    "language_info": {
      "name": "python"
    },
    "accelerator": "GPU"
  },
  "cells": [
    {
      "cell_type": "markdown",
      "metadata": {
        "id": "view-in-github",
        "colab_type": "text"
      },
      "source": [
        "<a href=\"https://colab.research.google.com/github/jouleffect/ML-Training/blob/main/diabete.ipynb\" target=\"_parent\"><img src=\"https://colab.research.google.com/assets/colab-badge.svg\" alt=\"Open In Colab\"/></a>"
      ]
    },
    {
      "cell_type": "markdown",
      "source": [
        "# Esercitazione Dataset Diabete"
      ],
      "metadata": {
        "id": "bWaducpqZqxu"
      }
    },
    {
      "cell_type": "code",
      "execution_count": null,
      "metadata": {
        "id": "aq7ETWuL4I2B"
      },
      "outputs": [],
      "source": [
        "import pandas as pd\n",
        "import matplotlib.pyplot as plt\n",
        "from sklearn.preprocessing import MinMaxScaler, StandardScaler, LabelEncoder\n",
        "from sklearn.metrics import mean_squared_error, r2_score\n",
        "from sklearn.model_selection import train_test_split\n",
        "from sklearn.neural_network import MLPClassifier"
      ]
    },
    {
      "cell_type": "markdown",
      "source": [
        "### Import del dataset csv con pandas"
      ],
      "metadata": {
        "id": "Ly513e9AZkvP"
      }
    },
    {
      "cell_type": "code",
      "source": [
        "data2= pd.read_csv('/content/drive/MyDrive/AI/Esercizi/Python/dataset/pima-indians-diabetes.csv', names=['Pregnancies','Glucose','BloodPressure','SkinThickness','Insulin','BMI','DiabPedigree','Age','Outcome'])"
      ],
      "metadata": {
        "id": "2pcuJPByY2Hi"
      },
      "execution_count": null,
      "outputs": []
    },
    {
      "cell_type": "code",
      "source": [
        "data2.head()"
      ],
      "metadata": {
        "colab": {
          "base_uri": "https://localhost:8080/",
          "height": 270
        },
        "id": "G2-t3_NnirC_",
        "outputId": "a95e7336-8c0a-4882-f20a-3992a565b329"
      },
      "execution_count": null,
      "outputs": [
        {
          "output_type": "execute_result",
          "data": {
            "text/plain": [
              "   Pregnancies  Glucose  BloodPressure  SkinThickness  Insulin   BMI  \\\n",
              "0            6      148             72             35        0  33.6   \n",
              "1            1       85             66             29        0  26.6   \n",
              "2            8      183             64              0        0  23.3   \n",
              "3            1       89             66             23       94  28.1   \n",
              "4            0      137             40             35      168  43.1   \n",
              "\n",
              "   DiabPedigree  Age  Outcome  \n",
              "0         0.627   50        1  \n",
              "1         0.351   31        0  \n",
              "2         0.672   32        1  \n",
              "3         0.167   21        0  \n",
              "4         2.288   33        1  "
            ],
            "text/html": [
              "\n",
              "  <div id=\"df-f94a1d15-e7d9-446a-a878-fc67b40b003c\">\n",
              "    <div class=\"colab-df-container\">\n",
              "      <div>\n",
              "<style scoped>\n",
              "    .dataframe tbody tr th:only-of-type {\n",
              "        vertical-align: middle;\n",
              "    }\n",
              "\n",
              "    .dataframe tbody tr th {\n",
              "        vertical-align: top;\n",
              "    }\n",
              "\n",
              "    .dataframe thead th {\n",
              "        text-align: right;\n",
              "    }\n",
              "</style>\n",
              "<table border=\"1\" class=\"dataframe\">\n",
              "  <thead>\n",
              "    <tr style=\"text-align: right;\">\n",
              "      <th></th>\n",
              "      <th>Pregnancies</th>\n",
              "      <th>Glucose</th>\n",
              "      <th>BloodPressure</th>\n",
              "      <th>SkinThickness</th>\n",
              "      <th>Insulin</th>\n",
              "      <th>BMI</th>\n",
              "      <th>DiabPedigree</th>\n",
              "      <th>Age</th>\n",
              "      <th>Outcome</th>\n",
              "    </tr>\n",
              "  </thead>\n",
              "  <tbody>\n",
              "    <tr>\n",
              "      <th>0</th>\n",
              "      <td>6</td>\n",
              "      <td>148</td>\n",
              "      <td>72</td>\n",
              "      <td>35</td>\n",
              "      <td>0</td>\n",
              "      <td>33.6</td>\n",
              "      <td>0.627</td>\n",
              "      <td>50</td>\n",
              "      <td>1</td>\n",
              "    </tr>\n",
              "    <tr>\n",
              "      <th>1</th>\n",
              "      <td>1</td>\n",
              "      <td>85</td>\n",
              "      <td>66</td>\n",
              "      <td>29</td>\n",
              "      <td>0</td>\n",
              "      <td>26.6</td>\n",
              "      <td>0.351</td>\n",
              "      <td>31</td>\n",
              "      <td>0</td>\n",
              "    </tr>\n",
              "    <tr>\n",
              "      <th>2</th>\n",
              "      <td>8</td>\n",
              "      <td>183</td>\n",
              "      <td>64</td>\n",
              "      <td>0</td>\n",
              "      <td>0</td>\n",
              "      <td>23.3</td>\n",
              "      <td>0.672</td>\n",
              "      <td>32</td>\n",
              "      <td>1</td>\n",
              "    </tr>\n",
              "    <tr>\n",
              "      <th>3</th>\n",
              "      <td>1</td>\n",
              "      <td>89</td>\n",
              "      <td>66</td>\n",
              "      <td>23</td>\n",
              "      <td>94</td>\n",
              "      <td>28.1</td>\n",
              "      <td>0.167</td>\n",
              "      <td>21</td>\n",
              "      <td>0</td>\n",
              "    </tr>\n",
              "    <tr>\n",
              "      <th>4</th>\n",
              "      <td>0</td>\n",
              "      <td>137</td>\n",
              "      <td>40</td>\n",
              "      <td>35</td>\n",
              "      <td>168</td>\n",
              "      <td>43.1</td>\n",
              "      <td>2.288</td>\n",
              "      <td>33</td>\n",
              "      <td>1</td>\n",
              "    </tr>\n",
              "  </tbody>\n",
              "</table>\n",
              "</div>\n",
              "      <button class=\"colab-df-convert\" onclick=\"convertToInteractive('df-f94a1d15-e7d9-446a-a878-fc67b40b003c')\"\n",
              "              title=\"Convert this dataframe to an interactive table.\"\n",
              "              style=\"display:none;\">\n",
              "        \n",
              "  <svg xmlns=\"http://www.w3.org/2000/svg\" height=\"24px\"viewBox=\"0 0 24 24\"\n",
              "       width=\"24px\">\n",
              "    <path d=\"M0 0h24v24H0V0z\" fill=\"none\"/>\n",
              "    <path d=\"M18.56 5.44l.94 2.06.94-2.06 2.06-.94-2.06-.94-.94-2.06-.94 2.06-2.06.94zm-11 1L8.5 8.5l.94-2.06 2.06-.94-2.06-.94L8.5 2.5l-.94 2.06-2.06.94zm10 10l.94 2.06.94-2.06 2.06-.94-2.06-.94-.94-2.06-.94 2.06-2.06.94z\"/><path d=\"M17.41 7.96l-1.37-1.37c-.4-.4-.92-.59-1.43-.59-.52 0-1.04.2-1.43.59L10.3 9.45l-7.72 7.72c-.78.78-.78 2.05 0 2.83L4 21.41c.39.39.9.59 1.41.59.51 0 1.02-.2 1.41-.59l7.78-7.78 2.81-2.81c.8-.78.8-2.07 0-2.86zM5.41 20L4 18.59l7.72-7.72 1.47 1.35L5.41 20z\"/>\n",
              "  </svg>\n",
              "      </button>\n",
              "      \n",
              "  <style>\n",
              "    .colab-df-container {\n",
              "      display:flex;\n",
              "      flex-wrap:wrap;\n",
              "      gap: 12px;\n",
              "    }\n",
              "\n",
              "    .colab-df-convert {\n",
              "      background-color: #E8F0FE;\n",
              "      border: none;\n",
              "      border-radius: 50%;\n",
              "      cursor: pointer;\n",
              "      display: none;\n",
              "      fill: #1967D2;\n",
              "      height: 32px;\n",
              "      padding: 0 0 0 0;\n",
              "      width: 32px;\n",
              "    }\n",
              "\n",
              "    .colab-df-convert:hover {\n",
              "      background-color: #E2EBFA;\n",
              "      box-shadow: 0px 1px 2px rgba(60, 64, 67, 0.3), 0px 1px 3px 1px rgba(60, 64, 67, 0.15);\n",
              "      fill: #174EA6;\n",
              "    }\n",
              "\n",
              "    [theme=dark] .colab-df-convert {\n",
              "      background-color: #3B4455;\n",
              "      fill: #D2E3FC;\n",
              "    }\n",
              "\n",
              "    [theme=dark] .colab-df-convert:hover {\n",
              "      background-color: #434B5C;\n",
              "      box-shadow: 0px 1px 3px 1px rgba(0, 0, 0, 0.15);\n",
              "      filter: drop-shadow(0px 1px 2px rgba(0, 0, 0, 0.3));\n",
              "      fill: #FFFFFF;\n",
              "    }\n",
              "  </style>\n",
              "\n",
              "      <script>\n",
              "        const buttonEl =\n",
              "          document.querySelector('#df-f94a1d15-e7d9-446a-a878-fc67b40b003c button.colab-df-convert');\n",
              "        buttonEl.style.display =\n",
              "          google.colab.kernel.accessAllowed ? 'block' : 'none';\n",
              "\n",
              "        async function convertToInteractive(key) {\n",
              "          const element = document.querySelector('#df-f94a1d15-e7d9-446a-a878-fc67b40b003c');\n",
              "          const dataTable =\n",
              "            await google.colab.kernel.invokeFunction('convertToInteractive',\n",
              "                                                     [key], {});\n",
              "          if (!dataTable) return;\n",
              "\n",
              "          const docLinkHtml = 'Like what you see? Visit the ' +\n",
              "            '<a target=\"_blank\" href=https://colab.research.google.com/notebooks/data_table.ipynb>data table notebook</a>'\n",
              "            + ' to learn more about interactive tables.';\n",
              "          element.innerHTML = '';\n",
              "          dataTable['output_type'] = 'display_data';\n",
              "          await google.colab.output.renderOutput(dataTable, element);\n",
              "          const docLink = document.createElement('div');\n",
              "          docLink.innerHTML = docLinkHtml;\n",
              "          element.appendChild(docLink);\n",
              "        }\n",
              "      </script>\n",
              "    </div>\n",
              "  </div>\n",
              "  "
            ]
          },
          "metadata": {},
          "execution_count": 3
        }
      ]
    },
    {
      "cell_type": "code",
      "source": [
        "data2.shape"
      ],
      "metadata": {
        "colab": {
          "base_uri": "https://localhost:8080/"
        },
        "id": "V1dMhp10auAy",
        "outputId": "4b26e042-f1d8-4139-9bdd-9958cc2a0022"
      },
      "execution_count": null,
      "outputs": [
        {
          "output_type": "execute_result",
          "data": {
            "text/plain": [
              "(768, 9)"
            ]
          },
          "metadata": {},
          "execution_count": 4
        }
      ]
    },
    {
      "cell_type": "markdown",
      "source": [
        "### Raggruppamento del dataset per \"outcomes\"\n",
        "\n"
      ],
      "metadata": {
        "id": "mGyPurVOZ4F4"
      }
    },
    {
      "cell_type": "code",
      "source": [
        "dgroup2 = data2.groupby('Outcome')\n",
        "print(dgroup2.size())"
      ],
      "metadata": {
        "colab": {
          "base_uri": "https://localhost:8080/"
        },
        "id": "nQnJ3lYDa-M9",
        "outputId": "deff2997-0e9f-4e1e-8f15-0b7ad6cd1df5"
      },
      "execution_count": null,
      "outputs": [
        {
          "output_type": "stream",
          "name": "stdout",
          "text": [
            "Outcome\n",
            "0    500\n",
            "1    268\n",
            "dtype: int64\n"
          ]
        }
      ]
    },
    {
      "cell_type": "markdown",
      "source": [
        "### Correlazione"
      ],
      "metadata": {
        "id": "RPavep0zZ_aH"
      }
    },
    {
      "cell_type": "code",
      "source": [
        "correlaz2 = data2.corr()\n",
        "print(correlaz2)"
      ],
      "metadata": {
        "colab": {
          "base_uri": "https://localhost:8080/"
        },
        "id": "snXdKD0AlJhC",
        "outputId": "0db8e23e-3efe-4669-c552-6d2e48ddb7e1"
      },
      "execution_count": null,
      "outputs": [
        {
          "output_type": "stream",
          "name": "stdout",
          "text": [
            "               Pregnancies   Glucose  BloodPressure  SkinThickness   Insulin  \\\n",
            "Pregnancies       1.000000  0.129459       0.141282      -0.081672 -0.073535   \n",
            "Glucose           0.129459  1.000000       0.152590       0.057328  0.331357   \n",
            "BloodPressure     0.141282  0.152590       1.000000       0.207371  0.088933   \n",
            "SkinThickness    -0.081672  0.057328       0.207371       1.000000  0.436783   \n",
            "Insulin          -0.073535  0.331357       0.088933       0.436783  1.000000   \n",
            "BMI               0.017683  0.221071       0.281805       0.392573  0.197859   \n",
            "DiabPedigree     -0.033523  0.137337       0.041265       0.183928  0.185071   \n",
            "Age               0.544341  0.263514       0.239528      -0.113970 -0.042163   \n",
            "Outcome           0.221898  0.466581       0.065068       0.074752  0.130548   \n",
            "\n",
            "                    BMI  DiabPedigree       Age   Outcome  \n",
            "Pregnancies    0.017683     -0.033523  0.544341  0.221898  \n",
            "Glucose        0.221071      0.137337  0.263514  0.466581  \n",
            "BloodPressure  0.281805      0.041265  0.239528  0.065068  \n",
            "SkinThickness  0.392573      0.183928 -0.113970  0.074752  \n",
            "Insulin        0.197859      0.185071 -0.042163  0.130548  \n",
            "BMI            1.000000      0.140647  0.036242  0.292695  \n",
            "DiabPedigree   0.140647      1.000000  0.033561  0.173844  \n",
            "Age            0.036242      0.033561  1.000000  0.238356  \n",
            "Outcome        0.292695      0.173844  0.238356  1.000000  \n"
          ]
        }
      ]
    },
    {
      "cell_type": "markdown",
      "source": [
        "### Grafico della correlazione"
      ],
      "metadata": {
        "id": "sPpNEMacaRGA"
      }
    },
    {
      "cell_type": "code",
      "source": [
        "plt.matshow(correlaz2,vmin=-1,vmax=1)\n",
        "plt.colorbar()\n",
        "plt.show()"
      ],
      "metadata": {
        "colab": {
          "base_uri": "https://localhost:8080/",
          "height": 264
        },
        "id": "Iyu4gR2Ynfu5",
        "outputId": "6de26bdb-1083-4a3d-a92f-84a69fa20d8b"
      },
      "execution_count": null,
      "outputs": [
        {
          "output_type": "display_data",
          "data": {
            "text/plain": [
              "<Figure size 288x288 with 2 Axes>"
            ],
            "image/png": "[encoded data removed]"
          },
          "metadata": {
            "needs_background": "light"
          }
        }
      ]
    },
    {
      "cell_type": "markdown",
      "source": [
        "### Istogramma"
      ],
      "metadata": {
        "id": "m0cB7QwzaEdl"
      }
    },
    {
      "cell_type": "code",
      "source": [
        "data2.hist()"
      ],
      "metadata": {
        "colab": {
          "base_uri": "https://localhost:8080/",
          "height": 455
        },
        "id": "e9MJVhzIbb4x",
        "outputId": "2075c973-40b8-4089-b870-83410add192b"
      },
      "execution_count": null,
      "outputs": [
        {
          "output_type": "execute_result",
          "data": {
            "text/plain": [
              "array([[<matplotlib.axes._subplots.AxesSubplot object at 0x7faa411b0250>,\n",
              "        <matplotlib.axes._subplots.AxesSubplot object at 0x7faa41166810>,\n",
              "        <matplotlib.axes._subplots.AxesSubplot object at 0x7faa4111ae10>],\n",
              "       [<matplotlib.axes._subplots.AxesSubplot object at 0x7faa410de450>,\n",
              "        <matplotlib.axes._subplots.AxesSubplot object at 0x7faa41096a50>,\n",
              "        <matplotlib.axes._subplots.AxesSubplot object at 0x7faa41043b90>],\n",
              "       [<matplotlib.axes._subplots.AxesSubplot object at 0x7faa41010710>,\n",
              "        <matplotlib.axes._subplots.AxesSubplot object at 0x7faa40fc8c50>,\n",
              "        <matplotlib.axes._subplots.AxesSubplot object at 0x7faa40fc8c90>]],\n",
              "      dtype=object)"
            ]
          },
          "metadata": {},
          "execution_count": 8
        },
        {
          "output_type": "display_data",
          "data": {
            "text/plain": [
              "<Figure size 432x288 with 9 Axes>"
            ],
            "image/png": "[encoded data removed]"
          },
          "metadata": {
            "needs_background": "light"
          }
        }
      ]
    },
    {
      "cell_type": "markdown",
      "source": [
        "### Conversione dei valori numerici in matrice numpy, dividendo le features con le prime colonne e l'ultima (labels)"
      ],
      "metadata": {
        "id": "Msfu-R7TanXi"
      }
    },
    {
      "cell_type": "code",
      "source": [
        "dataArray = data2.to_numpy()\n",
        "dataset = dataArray[:,0:8]\n",
        "labels = dataArray[:,8]\n",
        "print(dataset)"
      ],
      "metadata": {
        "colab": {
          "base_uri": "https://localhost:8080/"
        },
        "id": "Ds4DmE1ftfsu",
        "outputId": "b0d44d45-d4a1-45cf-a381-b77d4b225844"
      },
      "execution_count": null,
      "outputs": [
        {
          "output_type": "stream",
          "name": "stdout",
          "text": [
            "[[  6.    148.     72.    ...  33.6     0.627  50.   ]\n",
            " [  1.     85.     66.    ...  26.6     0.351  31.   ]\n",
            " [  8.    183.     64.    ...  23.3     0.672  32.   ]\n",
            " ...\n",
            " [  5.    121.     72.    ...  26.2     0.245  30.   ]\n",
            " [  1.    126.     60.    ...  30.1     0.349  47.   ]\n",
            " [  1.     93.     70.    ...  30.4     0.315  23.   ]]\n"
          ]
        }
      ]
    },
    {
      "cell_type": "markdown",
      "source": [
        "### Conversione dei valori con nuova scala"
      ],
      "metadata": {
        "id": "vyIuuvWUa2bz"
      }
    },
    {
      "cell_type": "code",
      "source": [
        "scaler = MinMaxScaler()\n",
        "dataScale = scaler.fit_transform(dataset)\n",
        "print(dataScale)"
      ],
      "metadata": {
        "colab": {
          "base_uri": "https://localhost:8080/"
        },
        "id": "On1mOR3DuPnx",
        "outputId": "1bf2e30f-2ff0-489f-9520-9832a715282c"
      },
      "execution_count": null,
      "outputs": [
        {
          "output_type": "stream",
          "name": "stdout",
          "text": [
            "[[0.35294118 0.74371859 0.59016393 ... 0.50074516 0.23441503 0.48333333]\n",
            " [0.05882353 0.42713568 0.54098361 ... 0.39642325 0.11656704 0.16666667]\n",
            " [0.47058824 0.91959799 0.52459016 ... 0.34724292 0.25362938 0.18333333]\n",
            " ...\n",
            " [0.29411765 0.6080402  0.59016393 ... 0.390462   0.07130658 0.15      ]\n",
            " [0.05882353 0.63316583 0.49180328 ... 0.4485842  0.11571307 0.43333333]\n",
            " [0.05882353 0.46733668 0.57377049 ... 0.45305514 0.10119556 0.03333333]]\n"
          ]
        }
      ]
    },
    {
      "cell_type": "code",
      "source": [
        "stdScal = StandardScaler()\n",
        "dataStd = stdScal.fit_transform(dataset)\n",
        "print(dataStd)"
      ],
      "metadata": {
        "colab": {
          "base_uri": "https://localhost:8080/"
        },
        "id": "A5nC_eKyvJvM",
        "outputId": "8f57f727-77eb-4ba1-f275-2829c9c9c58e"
      },
      "execution_count": null,
      "outputs": [
        {
          "output_type": "stream",
          "name": "stdout",
          "text": [
            "[[ 0.63994726  0.84832379  0.14964075 ...  0.20401277  0.46849198\n",
            "   1.4259954 ]\n",
            " [-0.84488505 -1.12339636 -0.16054575 ... -0.68442195 -0.36506078\n",
            "  -0.19067191]\n",
            " [ 1.23388019  1.94372388 -0.26394125 ... -1.10325546  0.60439732\n",
            "  -0.10558415]\n",
            " ...\n",
            " [ 0.3429808   0.00330087  0.14964075 ... -0.73518964 -0.68519336\n",
            "  -0.27575966]\n",
            " [-0.84488505  0.1597866  -0.47073225 ... -0.24020459 -0.37110101\n",
            "   1.17073215]\n",
            " [-0.84488505 -0.8730192   0.04624525 ... -0.20212881 -0.47378505\n",
            "  -0.87137393]]\n"
          ]
        }
      ]
    },
    {
      "cell_type": "markdown",
      "source": [
        "### Modelli"
      ],
      "metadata": {
        "id": "lMa2LJgl3Mcb"
      }
    },
    {
      "cell_type": "markdown",
      "source": [
        "Regressione logistica"
      ],
      "metadata": {
        "id": "SuUvvReK-YGm"
      }
    },
    {
      "cell_type": "code",
      "source": [
        "from sklearn.linear_model import LogisticRegression\n",
        "from sklearn.metrics import confusion_matrix\n",
        "\n",
        "X_train, X_test, y_train, y_test = train_test_split(dataStd,labels, test_size=0.20, random_state=0)\n",
        "\n",
        "model = LogisticRegression(random_state=0)\n",
        "model.fit(X_train,y_train)\n",
        "\n",
        "y_pred = model.predict(X_test)\n",
        "\n",
        "score = model.score(X_test,y_test)\n",
        "mse = mean_squared_error(y_test,y_pred)\n",
        "\n",
        "print(score)\n",
        "#print(mse)\n",
        "\n",
        "c_matrix= confusion_matrix(y_test,y_pred)\n",
        "#print(c_matrix)\n",
        "\n",
        "#plt.scatter(y_test,y_pred,color=\"black\")\n",
        "#plt.plot(y_test,y_pred,color=\"green\",linewidth=3)\n",
        "#plt.show()"
      ],
      "metadata": {
        "colab": {
          "base_uri": "https://localhost:8080/"
        },
        "id": "Krgigp6g-bRo",
        "outputId": "b99556aa-e82a-446b-e19d-61d8d0caa96e"
      },
      "execution_count": null,
      "outputs": [
        {
          "output_type": "stream",
          "name": "stdout",
          "text": [
            "0.8246753246753247\n"
          ]
        }
      ]
    },
    {
      "cell_type": "markdown",
      "source": [
        "MLPClassifier di neural network"
      ],
      "metadata": {
        "id": "BfIbnMBXpdZ9"
      }
    },
    {
      "cell_type": "code",
      "source": [
        "X_train, X_test, y_train, y_test = train_test_split(dataScale,labels, test_size=0.20, random_state=0)\n",
        "\n",
        "model2 = MLPClassifier(random_state=0,max_iter=300)\n",
        "model2.fit(X_train,y_train)\n",
        "\n",
        "model2.predict(X_test)\n",
        "model2.score(X_test,y_test)"
      ],
      "metadata": {
        "colab": {
          "base_uri": "https://localhost:8080/"
        },
        "id": "nE8FCUbspkjy",
        "outputId": "c53bb24c-a7fe-428c-b469-35ab6f28abcd"
      },
      "execution_count": null,
      "outputs": [
        {
          "output_type": "stream",
          "name": "stderr",
          "text": [
            "/usr/local/lib/python3.7/dist-packages/sklearn/neural_network/_multilayer_perceptron.py:696: ConvergenceWarning: Stochastic Optimizer: Maximum iterations (300) reached and the optimization hasn't converged yet.\n",
            "  ConvergenceWarning,\n"
          ]
        },
        {
          "output_type": "execute_result",
          "data": {
            "text/plain": [
              "0.7987012987012987"
            ]
          },
          "metadata": {},
          "execution_count": 35
        }
      ]
    },
    {
      "cell_type": "markdown",
      "source": [
        "Questo modello ha un'accuratezza minore del modello lineare e impiega più tempo."
      ],
      "metadata": {
        "id": "UlqLzQKBqgPh"
      }
    }
  ]
}